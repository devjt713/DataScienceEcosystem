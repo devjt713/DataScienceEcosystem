{
 "cells": [
  {
   "cell_type": "markdown",
   "id": "9fc80bc0-22b7-423d-b867-3ed9ad8701e9",
   "metadata": {},
   "source": [
    "# Data Science Tools and Ecosystem"
   ]
  },
  {
   "cell_type": "markdown",
   "id": "88d1a9ab-8dc3-46e7-9f1f-9721685bc2ce",
   "metadata": {},
   "source": [
    "## Author\n",
    "Devon Troxell"
   ]
  },
  {
   "cell_type": "markdown",
   "id": "315ec029-8c1b-4925-9747-49f1d01cd124",
   "metadata": {},
   "source": [
    "In this notebook, Data Science Tools and Ecosystem are summarized."
   ]
  },
  {
   "cell_type": "markdown",
   "id": "6bbbb457-f7e8-4beb-a3a5-a33b0cf613a6",
   "metadata": {},
   "source": [
    "Objectives:\n",
    "* Listed 3 or more popular languages for data science.\n",
    "* Created a list of 3 or more popular libraries used by data scientist.\n",
    "* Made a table that displays 3 throws containing popular data science tools.\n",
    "* Executed a code cell to display python addition and multiplication.\n",
    "* And created a code cell that will convert 200 minutes into its equivalent number of hours.\n",
    "\n",
    "***A key takeaway from this course is that there is a huge variety of useful tools that exist to help make the lives of data scientist easier. It's important that we learn which tools to use and how to use them so that we do not find ourselves working to find the solution to a problem that has already been solved.***"
   ]
  },
  {
   "cell_type": "markdown",
   "id": "aa23ddf0-a314-4e17-a829-5d675dcfbb35",
   "metadata": {},
   "source": [
    "Some of the popular languages that Data Scientist use are:\n",
    "1. Python\n",
    "2. R\n",
    "3. SQL\n",
    "4. Java\n",
    "5. Scala"
   ]
  },
  {
   "cell_type": "markdown",
   "id": "83d3bf29-ed89-4eac-bfa8-17fb6db85b8e",
   "metadata": {},
   "source": [
    "Some of the commonly used libraries used by Data Scientist include:\n",
    "1. Pandas\n",
    "2. Keras\n",
    "3. Matplotlib\n",
    "4. NumPy\n",
    "5. Scikit-Learn"
   ]
  },
  {
   "cell_type": "markdown",
   "id": "129bfb21-d4d4-4132-baf0-f39bdb331232",
   "metadata": {},
   "source": [
    "| Data Science Tools |\n",
    "|--------------------|\n",
    "|GitHub|\n",
    "|MySQL|\n",
    "|R Studio|"
   ]
  },
  {
   "cell_type": "markdown",
   "id": "c70254d6-4679-4a6d-8318-303fe9345202",
   "metadata": {},
   "source": [
    "Below are a few examples of evaluating arithmetic expressions in Python"
   ]
  },
  {
   "cell_type": "code",
   "execution_count": 2,
   "id": "e3726446-d897-465e-8688-50e2db6b8757",
   "metadata": {
    "tags": []
   },
   "outputs": [
    {
     "data": {
      "text/plain": [
       "17"
      ]
     },
     "execution_count": 2,
     "metadata": {},
     "output_type": "execute_result"
    }
   ],
   "source": [
    "# This is a simple arithmetic expression to multiply then add integers\n",
    "(3*4)+5"
   ]
  },
  {
   "cell_type": "code",
   "execution_count": 3,
   "id": "8539e39f-fc16-4ab8-8883-2302c9698e0e",
   "metadata": {
    "tags": []
   },
   "outputs": [
    {
     "data": {
      "text/plain": [
       "3.3333333333333335"
      ]
     },
     "execution_count": 3,
     "metadata": {},
     "output_type": "execute_result"
    }
   ],
   "source": [
    "# This will convert 200 minutes into hours by dividing by 60\n",
    "200/60"
   ]
  },
  {
   "cell_type": "code",
   "execution_count": null,
   "id": "a1315086-c8e9-4695-b460-2ebfd5395068",
   "metadata": {},
   "outputs": [],
   "source": []
  }
 ],
 "metadata": {
  "kernelspec": {
   "display_name": "Python",
   "language": "python",
   "name": "conda-env-python-py"
  },
  "language_info": {
   "codemirror_mode": {
    "name": "ipython",
    "version": 3
   },
   "file_extension": ".py",
   "mimetype": "text/x-python",
   "name": "python",
   "nbconvert_exporter": "python",
   "pygments_lexer": "ipython3",
   "version": "3.7.12"
  }
 },
 "nbformat": 4,
 "nbformat_minor": 5
}
